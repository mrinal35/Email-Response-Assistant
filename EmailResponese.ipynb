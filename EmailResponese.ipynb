{
  "cells": [
    {
      "cell_type": "markdown",
      "metadata": {
        "id": "view-in-github",
        "colab_type": "text"
      },
      "source": [
        "<a href=\"https://colab.research.google.com/github/mrinal35/Email-Response-Assistant/blob/main/EmailResponese.ipynb\" target=\"_parent\"><img src=\"https://colab.research.google.com/assets/colab-badge.svg\" alt=\"Open In Colab\"/></a>"
      ]
    },
    {
      "cell_type": "code",
      "execution_count": 81,
      "metadata": {
        "id": "iegoo0KbLk9k",
        "colab": {
          "base_uri": "https://localhost:8080/"
        },
        "outputId": "4df58248-1dee-4c29-ec5b-c13b80d4209f"
      },
      "outputs": [
        {
          "output_type": "stream",
          "name": "stdout",
          "text": [
            "Requirement already satisfied: spacy in /usr/local/lib/python3.10/dist-packages (3.7.6)\n",
            "Requirement already satisfied: spacy-legacy<3.1.0,>=3.0.11 in /usr/local/lib/python3.10/dist-packages (from spacy) (3.0.12)\n",
            "Requirement already satisfied: spacy-loggers<2.0.0,>=1.0.0 in /usr/local/lib/python3.10/dist-packages (from spacy) (1.0.5)\n",
            "Requirement already satisfied: murmurhash<1.1.0,>=0.28.0 in /usr/local/lib/python3.10/dist-packages (from spacy) (1.0.10)\n",
            "Requirement already satisfied: cymem<2.1.0,>=2.0.2 in /usr/local/lib/python3.10/dist-packages (from spacy) (2.0.8)\n",
            "Requirement already satisfied: preshed<3.1.0,>=3.0.2 in /usr/local/lib/python3.10/dist-packages (from spacy) (3.0.9)\n",
            "Requirement already satisfied: thinc<8.3.0,>=8.2.2 in /usr/local/lib/python3.10/dist-packages (from spacy) (8.2.5)\n",
            "Requirement already satisfied: wasabi<1.2.0,>=0.9.1 in /usr/local/lib/python3.10/dist-packages (from spacy) (1.1.3)\n",
            "Requirement already satisfied: srsly<3.0.0,>=2.4.3 in /usr/local/lib/python3.10/dist-packages (from spacy) (2.4.8)\n",
            "Requirement already satisfied: catalogue<2.1.0,>=2.0.6 in /usr/local/lib/python3.10/dist-packages (from spacy) (2.0.10)\n",
            "Requirement already satisfied: weasel<0.5.0,>=0.1.0 in /usr/local/lib/python3.10/dist-packages (from spacy) (0.4.1)\n",
            "Requirement already satisfied: typer<1.0.0,>=0.3.0 in /usr/local/lib/python3.10/dist-packages (from spacy) (0.12.5)\n",
            "Requirement already satisfied: tqdm<5.0.0,>=4.38.0 in /usr/local/lib/python3.10/dist-packages (from spacy) (4.66.5)\n",
            "Requirement already satisfied: requests<3.0.0,>=2.13.0 in /usr/local/lib/python3.10/dist-packages (from spacy) (2.32.3)\n",
            "Requirement already satisfied: pydantic!=1.8,!=1.8.1,<3.0.0,>=1.7.4 in /usr/local/lib/python3.10/dist-packages (from spacy) (2.9.1)\n",
            "Requirement already satisfied: jinja2 in /usr/local/lib/python3.10/dist-packages (from spacy) (3.1.4)\n",
            "Requirement already satisfied: setuptools in /usr/local/lib/python3.10/dist-packages (from spacy) (71.0.4)\n",
            "Requirement already satisfied: packaging>=20.0 in /usr/local/lib/python3.10/dist-packages (from spacy) (24.1)\n",
            "Requirement already satisfied: langcodes<4.0.0,>=3.2.0 in /usr/local/lib/python3.10/dist-packages (from spacy) (3.4.0)\n",
            "Requirement already satisfied: numpy>=1.19.0 in /usr/local/lib/python3.10/dist-packages (from spacy) (1.26.4)\n",
            "Requirement already satisfied: language-data>=1.2 in /usr/local/lib/python3.10/dist-packages (from langcodes<4.0.0,>=3.2.0->spacy) (1.2.0)\n",
            "Requirement already satisfied: annotated-types>=0.6.0 in /usr/local/lib/python3.10/dist-packages (from pydantic!=1.8,!=1.8.1,<3.0.0,>=1.7.4->spacy) (0.7.0)\n",
            "Requirement already satisfied: pydantic-core==2.23.3 in /usr/local/lib/python3.10/dist-packages (from pydantic!=1.8,!=1.8.1,<3.0.0,>=1.7.4->spacy) (2.23.3)\n",
            "Requirement already satisfied: typing-extensions>=4.6.1 in /usr/local/lib/python3.10/dist-packages (from pydantic!=1.8,!=1.8.1,<3.0.0,>=1.7.4->spacy) (4.12.2)\n",
            "Requirement already satisfied: charset-normalizer<4,>=2 in /usr/local/lib/python3.10/dist-packages (from requests<3.0.0,>=2.13.0->spacy) (3.3.2)\n",
            "Requirement already satisfied: idna<4,>=2.5 in /usr/local/lib/python3.10/dist-packages (from requests<3.0.0,>=2.13.0->spacy) (3.8)\n",
            "Requirement already satisfied: urllib3<3,>=1.21.1 in /usr/local/lib/python3.10/dist-packages (from requests<3.0.0,>=2.13.0->spacy) (2.0.7)\n",
            "Requirement already satisfied: certifi>=2017.4.17 in /usr/local/lib/python3.10/dist-packages (from requests<3.0.0,>=2.13.0->spacy) (2024.8.30)\n",
            "Requirement already satisfied: blis<0.8.0,>=0.7.8 in /usr/local/lib/python3.10/dist-packages (from thinc<8.3.0,>=8.2.2->spacy) (0.7.11)\n",
            "Requirement already satisfied: confection<1.0.0,>=0.0.1 in /usr/local/lib/python3.10/dist-packages (from thinc<8.3.0,>=8.2.2->spacy) (0.1.5)\n",
            "Requirement already satisfied: click>=8.0.0 in /usr/local/lib/python3.10/dist-packages (from typer<1.0.0,>=0.3.0->spacy) (8.1.7)\n",
            "Requirement already satisfied: shellingham>=1.3.0 in /usr/local/lib/python3.10/dist-packages (from typer<1.0.0,>=0.3.0->spacy) (1.5.4)\n",
            "Requirement already satisfied: rich>=10.11.0 in /usr/local/lib/python3.10/dist-packages (from typer<1.0.0,>=0.3.0->spacy) (13.8.1)\n",
            "Requirement already satisfied: cloudpathlib<1.0.0,>=0.7.0 in /usr/local/lib/python3.10/dist-packages (from weasel<0.5.0,>=0.1.0->spacy) (0.19.0)\n",
            "Requirement already satisfied: smart-open<8.0.0,>=5.2.1 in /usr/local/lib/python3.10/dist-packages (from weasel<0.5.0,>=0.1.0->spacy) (7.0.4)\n",
            "Requirement already satisfied: MarkupSafe>=2.0 in /usr/local/lib/python3.10/dist-packages (from jinja2->spacy) (2.1.5)\n",
            "Requirement already satisfied: marisa-trie>=0.7.7 in /usr/local/lib/python3.10/dist-packages (from language-data>=1.2->langcodes<4.0.0,>=3.2.0->spacy) (1.2.0)\n",
            "Requirement already satisfied: markdown-it-py>=2.2.0 in /usr/local/lib/python3.10/dist-packages (from rich>=10.11.0->typer<1.0.0,>=0.3.0->spacy) (3.0.0)\n",
            "Requirement already satisfied: pygments<3.0.0,>=2.13.0 in /usr/local/lib/python3.10/dist-packages (from rich>=10.11.0->typer<1.0.0,>=0.3.0->spacy) (2.16.1)\n",
            "Requirement already satisfied: wrapt in /usr/local/lib/python3.10/dist-packages (from smart-open<8.0.0,>=5.2.1->weasel<0.5.0,>=0.1.0->spacy) (1.16.0)\n",
            "Requirement already satisfied: mdurl~=0.1 in /usr/local/lib/python3.10/dist-packages (from markdown-it-py>=2.2.0->rich>=10.11.0->typer<1.0.0,>=0.3.0->spacy) (0.1.2)\n",
            "Collecting en-core-web-sm==3.7.1\n",
            "  Downloading https://github.com/explosion/spacy-models/releases/download/en_core_web_sm-3.7.1/en_core_web_sm-3.7.1-py3-none-any.whl (12.8 MB)\n",
            "\u001b[2K     \u001b[90m━━━━━━━━━━━━━━━━━━━━━━━━━━━━━━━━━━━━━━━━\u001b[0m \u001b[32m12.8/12.8 MB\u001b[0m \u001b[31m67.5 MB/s\u001b[0m eta \u001b[36m0:00:00\u001b[0m\n",
            "\u001b[?25hRequirement already satisfied: spacy<3.8.0,>=3.7.2 in /usr/local/lib/python3.10/dist-packages (from en-core-web-sm==3.7.1) (3.7.6)\n",
            "Requirement already satisfied: spacy-legacy<3.1.0,>=3.0.11 in /usr/local/lib/python3.10/dist-packages (from spacy<3.8.0,>=3.7.2->en-core-web-sm==3.7.1) (3.0.12)\n",
            "Requirement already satisfied: spacy-loggers<2.0.0,>=1.0.0 in /usr/local/lib/python3.10/dist-packages (from spacy<3.8.0,>=3.7.2->en-core-web-sm==3.7.1) (1.0.5)\n",
            "Requirement already satisfied: murmurhash<1.1.0,>=0.28.0 in /usr/local/lib/python3.10/dist-packages (from spacy<3.8.0,>=3.7.2->en-core-web-sm==3.7.1) (1.0.10)\n",
            "Requirement already satisfied: cymem<2.1.0,>=2.0.2 in /usr/local/lib/python3.10/dist-packages (from spacy<3.8.0,>=3.7.2->en-core-web-sm==3.7.1) (2.0.8)\n",
            "Requirement already satisfied: preshed<3.1.0,>=3.0.2 in /usr/local/lib/python3.10/dist-packages (from spacy<3.8.0,>=3.7.2->en-core-web-sm==3.7.1) (3.0.9)\n",
            "Requirement already satisfied: thinc<8.3.0,>=8.2.2 in /usr/local/lib/python3.10/dist-packages (from spacy<3.8.0,>=3.7.2->en-core-web-sm==3.7.1) (8.2.5)\n",
            "Requirement already satisfied: wasabi<1.2.0,>=0.9.1 in /usr/local/lib/python3.10/dist-packages (from spacy<3.8.0,>=3.7.2->en-core-web-sm==3.7.1) (1.1.3)\n",
            "Requirement already satisfied: srsly<3.0.0,>=2.4.3 in /usr/local/lib/python3.10/dist-packages (from spacy<3.8.0,>=3.7.2->en-core-web-sm==3.7.1) (2.4.8)\n",
            "Requirement already satisfied: catalogue<2.1.0,>=2.0.6 in /usr/local/lib/python3.10/dist-packages (from spacy<3.8.0,>=3.7.2->en-core-web-sm==3.7.1) (2.0.10)\n",
            "Requirement already satisfied: weasel<0.5.0,>=0.1.0 in /usr/local/lib/python3.10/dist-packages (from spacy<3.8.0,>=3.7.2->en-core-web-sm==3.7.1) (0.4.1)\n",
            "Requirement already satisfied: typer<1.0.0,>=0.3.0 in /usr/local/lib/python3.10/dist-packages (from spacy<3.8.0,>=3.7.2->en-core-web-sm==3.7.1) (0.12.5)\n",
            "Requirement already satisfied: tqdm<5.0.0,>=4.38.0 in /usr/local/lib/python3.10/dist-packages (from spacy<3.8.0,>=3.7.2->en-core-web-sm==3.7.1) (4.66.5)\n",
            "Requirement already satisfied: requests<3.0.0,>=2.13.0 in /usr/local/lib/python3.10/dist-packages (from spacy<3.8.0,>=3.7.2->en-core-web-sm==3.7.1) (2.32.3)\n",
            "Requirement already satisfied: pydantic!=1.8,!=1.8.1,<3.0.0,>=1.7.4 in /usr/local/lib/python3.10/dist-packages (from spacy<3.8.0,>=3.7.2->en-core-web-sm==3.7.1) (2.9.1)\n",
            "Requirement already satisfied: jinja2 in /usr/local/lib/python3.10/dist-packages (from spacy<3.8.0,>=3.7.2->en-core-web-sm==3.7.1) (3.1.4)\n",
            "Requirement already satisfied: setuptools in /usr/local/lib/python3.10/dist-packages (from spacy<3.8.0,>=3.7.2->en-core-web-sm==3.7.1) (71.0.4)\n",
            "Requirement already satisfied: packaging>=20.0 in /usr/local/lib/python3.10/dist-packages (from spacy<3.8.0,>=3.7.2->en-core-web-sm==3.7.1) (24.1)\n",
            "Requirement already satisfied: langcodes<4.0.0,>=3.2.0 in /usr/local/lib/python3.10/dist-packages (from spacy<3.8.0,>=3.7.2->en-core-web-sm==3.7.1) (3.4.0)\n",
            "Requirement already satisfied: numpy>=1.19.0 in /usr/local/lib/python3.10/dist-packages (from spacy<3.8.0,>=3.7.2->en-core-web-sm==3.7.1) (1.26.4)\n",
            "Requirement already satisfied: language-data>=1.2 in /usr/local/lib/python3.10/dist-packages (from langcodes<4.0.0,>=3.2.0->spacy<3.8.0,>=3.7.2->en-core-web-sm==3.7.1) (1.2.0)\n",
            "Requirement already satisfied: annotated-types>=0.6.0 in /usr/local/lib/python3.10/dist-packages (from pydantic!=1.8,!=1.8.1,<3.0.0,>=1.7.4->spacy<3.8.0,>=3.7.2->en-core-web-sm==3.7.1) (0.7.0)\n",
            "Requirement already satisfied: pydantic-core==2.23.3 in /usr/local/lib/python3.10/dist-packages (from pydantic!=1.8,!=1.8.1,<3.0.0,>=1.7.4->spacy<3.8.0,>=3.7.2->en-core-web-sm==3.7.1) (2.23.3)\n",
            "Requirement already satisfied: typing-extensions>=4.6.1 in /usr/local/lib/python3.10/dist-packages (from pydantic!=1.8,!=1.8.1,<3.0.0,>=1.7.4->spacy<3.8.0,>=3.7.2->en-core-web-sm==3.7.1) (4.12.2)\n",
            "Requirement already satisfied: charset-normalizer<4,>=2 in /usr/local/lib/python3.10/dist-packages (from requests<3.0.0,>=2.13.0->spacy<3.8.0,>=3.7.2->en-core-web-sm==3.7.1) (3.3.2)\n",
            "Requirement already satisfied: idna<4,>=2.5 in /usr/local/lib/python3.10/dist-packages (from requests<3.0.0,>=2.13.0->spacy<3.8.0,>=3.7.2->en-core-web-sm==3.7.1) (3.8)\n",
            "Requirement already satisfied: urllib3<3,>=1.21.1 in /usr/local/lib/python3.10/dist-packages (from requests<3.0.0,>=2.13.0->spacy<3.8.0,>=3.7.2->en-core-web-sm==3.7.1) (2.0.7)\n",
            "Requirement already satisfied: certifi>=2017.4.17 in /usr/local/lib/python3.10/dist-packages (from requests<3.0.0,>=2.13.0->spacy<3.8.0,>=3.7.2->en-core-web-sm==3.7.1) (2024.8.30)\n",
            "Requirement already satisfied: blis<0.8.0,>=0.7.8 in /usr/local/lib/python3.10/dist-packages (from thinc<8.3.0,>=8.2.2->spacy<3.8.0,>=3.7.2->en-core-web-sm==3.7.1) (0.7.11)\n",
            "Requirement already satisfied: confection<1.0.0,>=0.0.1 in /usr/local/lib/python3.10/dist-packages (from thinc<8.3.0,>=8.2.2->spacy<3.8.0,>=3.7.2->en-core-web-sm==3.7.1) (0.1.5)\n",
            "Requirement already satisfied: click>=8.0.0 in /usr/local/lib/python3.10/dist-packages (from typer<1.0.0,>=0.3.0->spacy<3.8.0,>=3.7.2->en-core-web-sm==3.7.1) (8.1.7)\n",
            "Requirement already satisfied: shellingham>=1.3.0 in /usr/local/lib/python3.10/dist-packages (from typer<1.0.0,>=0.3.0->spacy<3.8.0,>=3.7.2->en-core-web-sm==3.7.1) (1.5.4)\n",
            "Requirement already satisfied: rich>=10.11.0 in /usr/local/lib/python3.10/dist-packages (from typer<1.0.0,>=0.3.0->spacy<3.8.0,>=3.7.2->en-core-web-sm==3.7.1) (13.8.1)\n",
            "Requirement already satisfied: cloudpathlib<1.0.0,>=0.7.0 in /usr/local/lib/python3.10/dist-packages (from weasel<0.5.0,>=0.1.0->spacy<3.8.0,>=3.7.2->en-core-web-sm==3.7.1) (0.19.0)\n",
            "Requirement already satisfied: smart-open<8.0.0,>=5.2.1 in /usr/local/lib/python3.10/dist-packages (from weasel<0.5.0,>=0.1.0->spacy<3.8.0,>=3.7.2->en-core-web-sm==3.7.1) (7.0.4)\n",
            "Requirement already satisfied: MarkupSafe>=2.0 in /usr/local/lib/python3.10/dist-packages (from jinja2->spacy<3.8.0,>=3.7.2->en-core-web-sm==3.7.1) (2.1.5)\n",
            "Requirement already satisfied: marisa-trie>=0.7.7 in /usr/local/lib/python3.10/dist-packages (from language-data>=1.2->langcodes<4.0.0,>=3.2.0->spacy<3.8.0,>=3.7.2->en-core-web-sm==3.7.1) (1.2.0)\n",
            "Requirement already satisfied: markdown-it-py>=2.2.0 in /usr/local/lib/python3.10/dist-packages (from rich>=10.11.0->typer<1.0.0,>=0.3.0->spacy<3.8.0,>=3.7.2->en-core-web-sm==3.7.1) (3.0.0)\n",
            "Requirement already satisfied: pygments<3.0.0,>=2.13.0 in /usr/local/lib/python3.10/dist-packages (from rich>=10.11.0->typer<1.0.0,>=0.3.0->spacy<3.8.0,>=3.7.2->en-core-web-sm==3.7.1) (2.16.1)\n",
            "Requirement already satisfied: wrapt in /usr/local/lib/python3.10/dist-packages (from smart-open<8.0.0,>=5.2.1->weasel<0.5.0,>=0.1.0->spacy<3.8.0,>=3.7.2->en-core-web-sm==3.7.1) (1.16.0)\n",
            "Requirement already satisfied: mdurl~=0.1 in /usr/local/lib/python3.10/dist-packages (from markdown-it-py>=2.2.0->rich>=10.11.0->typer<1.0.0,>=0.3.0->spacy<3.8.0,>=3.7.2->en-core-web-sm==3.7.1) (0.1.2)\n",
            "\u001b[38;5;2m✔ Download and installation successful\u001b[0m\n",
            "You can now load the package via spacy.load('en_core_web_sm')\n",
            "\u001b[38;5;3m⚠ Restart to reload dependencies\u001b[0m\n",
            "If you are in a Jupyter or Colab notebook, you may need to restart Python in\n",
            "order to load all the package's dependencies. You can do this by selecting the\n",
            "'Restart kernel' or 'Restart runtime' option.\n"
          ]
        }
      ],
      "source": [
        "!pip install spacy\n",
        "!python -m spacy download en_core_web_sm\n",
        "import nltk\n"
      ]
    },
    {
      "cell_type": "code",
      "source": [
        "import nltk\n",
        "import spacy\n",
        "from nltk.corpus import stopwords\n",
        "from nltk.stem import WordNetLemmatizer\n",
        "from nltk.sentiment.vader import SentimentIntensityAnalyzer\n",
        "from sklearn.feature_extraction.text import TfidfVectorizer\n",
        "import nltk\n",
        "nltk.download('punkt')\n",
        "nltk.download('stopwords')\n",
        "nltk.download('wordnet')\n",
        "nltk.download('vader_lexicon')\n",
        "stop_words = set(stopwords.words('english'))\n",
        "lemmatizer = WordNetLemmatizer()\n",
        "sid = SentimentIntensityAnalyzer()\n",
        "nlp = spacy.load('en_core_web_sm')\n"
      ],
      "metadata": {
        "colab": {
          "base_uri": "https://localhost:8080/"
        },
        "id": "-JIzlczHUEuW",
        "outputId": "7d51ea9c-2f68-4ced-c3de-ca72e0eed96b"
      },
      "execution_count": 82,
      "outputs": [
        {
          "output_type": "stream",
          "name": "stderr",
          "text": [
            "[nltk_data] Downloading package punkt to /root/nltk_data...\n",
            "[nltk_data]   Package punkt is already up-to-date!\n",
            "[nltk_data] Downloading package stopwords to /root/nltk_data...\n",
            "[nltk_data]   Package stopwords is already up-to-date!\n",
            "[nltk_data] Downloading package wordnet to /root/nltk_data...\n",
            "[nltk_data]   Package wordnet is already up-to-date!\n",
            "[nltk_data] Downloading package vader_lexicon to /root/nltk_data...\n",
            "[nltk_data]   Package vader_lexicon is already up-to-date!\n"
          ]
        }
      ]
    },
    {
      "cell_type": "code",
      "source": [
        "def tokenize_and_remove_stopwords(email_body):\n",
        "    words = nltk.word_tokenize(email_body)\n",
        "    return [word for word in words if word.lower() not in stop_words and word.isalnum()]"
      ],
      "metadata": {
        "id": "iOem2LxoVxtt"
      },
      "execution_count": 83,
      "outputs": []
    },
    {
      "cell_type": "code",
      "source": [
        "def pos_tagging(email_body):\n",
        "    doc = nlp(email_body)\n",
        "    return [(token.text, token.pos_) for token in doc]"
      ],
      "metadata": {
        "id": "0wkQhw1aWemF"
      },
      "execution_count": 84,
      "outputs": []
    },
    {
      "cell_type": "code",
      "source": [
        "def extract_relevant_entities(email_body):\n",
        "    doc = nlp(email_body)\n",
        "    relevant_entities = {\n",
        "        'DATE': [],\n",
        "        'TIME': [],\n",
        "        'ORG': [],\n",
        "        'PERSON': [],\n",
        "        'MONEY': [],\n",
        "        'EVENT': [],\n",
        "        'GPE': [],\n",
        "        'PRODUCT': [],\n",
        "        'LAW': [],\n",
        "        'CARDINAL': []\n",
        "    }\n",
        "    for ent in doc.ents:\n",
        "        if ent.label_ in relevant_entities:\n",
        "            relevant_entities[ent.label_].append(ent.text)\n",
        "    return relevant_entities"
      ],
      "metadata": {
        "id": "Byig9t9MWz7S"
      },
      "execution_count": 85,
      "outputs": []
    },
    {
      "cell_type": "code",
      "source": [
        "def lemmatize_tokens(tokens):\n",
        "    return [lemmatizer.lemmatize(word) for word in tokens]"
      ],
      "metadata": {
        "id": "SX8ntV2TW6CD"
      },
      "execution_count": 86,
      "outputs": []
    },
    {
      "cell_type": "code",
      "source": [
        "def analyze_sentiment(email_body):\n",
        "    sentiment_scores = sid.polarity_scores(email_body)\n",
        "    compound_score = sentiment_scores['compound']\n",
        "    if compound_score >= 0.05:\n",
        "        return 'positive'\n",
        "    elif compound_score <= -0.05:\n",
        "        return 'negative'\n",
        "    else:\n",
        "        return 'neutral'\n"
      ],
      "metadata": {
        "id": "CjY3X-LzXRKc"
      },
      "execution_count": 87,
      "outputs": []
    },
    {
      "cell_type": "code",
      "source": [
        "emails = [\n",
        "    {\n",
        "        'id': 1,\n",
        "        'subject': 'Project Update Request',\n",
        "        'body': '''\n",
        "        Hey there,\n",
        "        Just wanted to check in on how things are progressing with the project. I know we’ve had some setbacks recently, but I’m hoping you can provide a bit of an update before the day’s end. It’s not critical, but it would be really helpful to have this information soon. Also, can you highlight any areas where you're stuck or need assistance? Thanks in advance!\n",
        "        ''',\n",
        "        'sentiment': None,\n",
        "        'urgency': None\n",
        "    },\n",
        "    {\n",
        "        'id': 2,\n",
        "        'subject': 'Scheduling a Meeting',\n",
        "        'body': '''\n",
        "        Hi,\n",
        "        I was wondering if you had time next week to go over some of the points we discussed during our last call. It’s not urgent, but I believe getting this done sooner could help avoid some potential issues down the road. If you're busy, we can push it to later, but a quick sync-up would be ideal if possible.\n",
        "        Best,\n",
        "        John\n",
        "        ''',\n",
        "        'sentiment': None,\n",
        "        'urgency': None\n",
        "    },\n",
        "    {\n",
        "        'id': 3,\n",
        "        'subject': 'Payment Reminder',\n",
        "        'body': '''\n",
        "        Hello,\n",
        "        Just a gentle reminder regarding the outstanding payment that was due last month. I understand that things can sometimes fall through the cracks, but we would appreciate it if this could be resolved soon to avoid further delays. Let me know if there are any issues on your end, and we can discuss alternative arrangements if necessary.\n",
        "        Regards,\n",
        "        Sarah\n",
        "        ''',\n",
        "        'sentiment': None,\n",
        "        'urgency': None\n",
        "    },\n",
        "    {\n",
        "        'id': 4,\n",
        "        'subject': 'Job Offer - Any Updates?',\n",
        "        'body': '''\n",
        "        Hi,\n",
        "        I hope you’re doing well! I just wanted to follow up on the offer we sent out last week. We’re excited to move forward, but I wanted to know if you needed more time to consider, or if there’s anything else you’d like to discuss. There’s no rush, but it would be great to hear your thoughts whenever you’re ready.\n",
        "        Warm regards,\n",
        "        Emily\n",
        "        ''',\n",
        "        'sentiment': None,\n",
        "        'urgency': None\n",
        "    },\n",
        "    {\n",
        "        'id': 5,\n",
        "        'subject': 'Critical Issue with the App',\n",
        "        'body': '''\n",
        "        Hi Team,\n",
        "        I’ve been informed by one of our users that the application crashes whenever they try to access certain features. At this point, I’m not sure if this is an isolated incident or if more users are experiencing the same. It would be helpful if we could investigate this as soon as possible to determine the root cause before it escalates. Please prioritize this if it turns out to be widespread. Thanks.\n",
        "        ''',\n",
        "        'sentiment': None,\n",
        "        'urgency': None\n",
        "    }\n",
        "]"
      ],
      "metadata": {
        "id": "fLmmaynJZ7QR"
      },
      "execution_count": 88,
      "outputs": []
    },
    {
      "cell_type": "code",
      "source": [
        "for email in emails:\n",
        "    email['tokens'] = tokenize_and_remove_stopwords(email['body'])\n",
        "    email['pos_tags'] = pos_tagging(email['body'])\n",
        "    email['entities'] = extract_relevant_entities(email['body'])\n",
        "    email['lemmas'] = lemmatize_tokens(email['tokens'])\n",
        "    email['sentiment'] = analyze_sentiment(email['body'])\n",
        "\n",
        "email_bodies = [email['body'] for email in emails]\n",
        "tfidf_matrix, feature_names = calculate_tfidf(email_bodies)\n",
        "\n",
        "# Function to calculate urgency\n",
        "def calculate_urgency(email, tfidf_matrix, feature_names, index):\n",
        "    sentiment_scores = sid.polarity_scores(email['body'])\n",
        "    sentiment_score = sentiment_scores['compound']\n",
        "    sentiment_urgency = -sentiment_score\n",
        "\n",
        "    tfidf_index = {word: i for i, word in enumerate(feature_names)}\n",
        "    tfidf_score = 0\n",
        "    if email['tokens']:\n",
        "        tfidf_score = np.sum([tfidf_matrix[index, tfidf_index.get(word, -1)] for word in email['tokens'] if word in tfidf_index])\n",
        "\n",
        "    entities = email['entities']\n",
        "    entity_urgency = 0\n",
        "    if entities['DATE'] or entities['TIME']:\n",
        "        entity_urgency += 2\n",
        "    if entities['ORG'] or entities['PERSON']:\n",
        "        entity_urgency += 1\n",
        "    if entities['MONEY'] or entities['PRODUCT'] or entities['LAW']:\n",
        "        entity_urgency += 1.5\n",
        "    if entities['EVENT']:\n",
        "        entity_urgency += 1.2\n",
        "    if entities['GPE'] or entities['LAW'] or entities['CARDINAL']:\n",
        "        entity_urgency += 0.8\n",
        "\n",
        "    urgency_score = sentiment_urgency + tfidf_score + entity_urgency\n",
        "    return urgency_score\n",
        "\n",
        "# Ranking emails based on urgency score\n",
        "for idx, email in enumerate(emails):\n",
        "    email['urgency_score'] = calculate_urgency(email, tfidf_matrix, feature_names, idx)\n",
        "\n",
        "ranked_emails = sorted(emails, key=lambda x: x['urgency_score'], reverse=True)\n",
        "\n",
        "for rank, email in enumerate(ranked_emails, 1):\n",
        "    print(f\"Rank {rank}: Email {email['id']} - Urgency Score: {email['urgency_score']}\")\n",
        "    print(f\"  Subject: {email['subject']}\")\n",
        "    print(f\"  Body: {email['body']}\")\n",
        "    print(\"-\" )\n"
      ],
      "metadata": {
        "colab": {
          "base_uri": "https://localhost:8080/"
        },
        "id": "AtBkD_Eh3tNI",
        "outputId": "c9e58e11-5538-475d-9c51-d98c13633ae6"
      },
      "execution_count": 89,
      "outputs": [
        {
          "output_type": "stream",
          "name": "stdout",
          "text": [
            "Rank 1: Email 3 - Urgency Score: 6.486050359283643\n",
            "  Subject: Payment Reminder\n",
            "  Body: \n",
            "        Hello,\n",
            "        Just a gentle reminder regarding the outstanding payment that was due last month. I understand that things can sometimes fall through the cracks, but we would appreciate it if this could be resolved soon to avoid further delays. Let me know if there are any issues on your end, and we can discuss alternative arrangements if necessary.\n",
            "        Regards,\n",
            "        Sarah\n",
            "        \n",
            "-\n",
            "Rank 2: Email 1 - Urgency Score: 5.746331958826229\n",
            "  Subject: Project Update Request\n",
            "  Body: \n",
            "        Hey there, \n",
            "        Just wanted to check in on how things are progressing with the project. I know we’ve had some setbacks recently, but I’m hoping you can provide a bit of an update before the day’s end. It’s not critical, but it would be really helpful to have this information soon. Also, can you highlight any areas where you're stuck or need assistance? Thanks in advance!\n",
            "        \n",
            "-\n",
            "Rank 3: Email 4 - Urgency Score: 5.407667609589652\n",
            "  Subject: Job Offer - Any Updates?\n",
            "  Body: \n",
            "        Hi,\n",
            "        I hope you’re doing well! I just wanted to follow up on the offer we sent out last week. We’re excited to move forward, but I wanted to know if you needed more time to consider, or if there’s anything else you’d like to discuss. There’s no rush, but it would be great to hear your thoughts whenever you’re ready.\n",
            "        Warm regards,\n",
            "        Emily\n",
            "        \n",
            "-\n",
            "Rank 4: Email 2 - Urgency Score: 5.169519241849184\n",
            "  Subject: Scheduling a Meeting\n",
            "  Body: \n",
            "        Hi,\n",
            "        I was wondering if you had time next week to go over some of the points we discussed during our last call. It’s not urgent, but I believe getting this done sooner could help avoid some potential issues down the road. If you're busy, we can push it to later, but a quick sync-up would be ideal if possible.\n",
            "        Best,\n",
            "        John\n",
            "        \n",
            "-\n",
            "Rank 5: Email 5 - Urgency Score: 5.019353251004338\n",
            "  Subject: Critical Issue with the App\n",
            "  Body: \n",
            "        Hi Team,\n",
            "        I’ve been informed by one of our users that the application crashes whenever they try to access certain features. At this point, I’m not sure if this is an isolated incident or if more users are experiencing the same. It would be helpful if we could investigate this as soon as possible to determine the root cause before it escalates. Please prioritize this if it turns out to be widespread. Thanks.\n",
            "        \n",
            "-\n"
          ]
        }
      ]
    },
    {
      "cell_type": "code",
      "source": [
        "from transformers import GPT2LMHeadModel, GPT2Tokenizer\n",
        "model_name = 'gpt2'\n",
        "tokenizer = GPT2Tokenizer.from_pretrained(model_name)\n",
        "model = GPT2LMHeadModel.from_pretrained(model_name)\n",
        "\n",
        "def generate_response(email_subject, email_body, max_length=150):\n",
        "\n",
        "    context = f\"Subject: {email_subject}\\n\\nBody: {email_body}\\n\\nResponse:\"\n",
        "    inputs = tokenizer.encode(context, return_tensors='pt')\n",
        "\n",
        "    outputs = model.generate(inputs, max_length=max_length, num_return_sequences=1, no_repeat_ngram_size=2)\n",
        "    response = tokenizer.decode(outputs[0], skip_special_tokens=True)\n",
        "\n",
        "    response = response.split('Response:')[1].strip()\n",
        "    return response\n"
      ],
      "metadata": {
        "id": "bIBv7k_9v_7n"
      },
      "execution_count": 90,
      "outputs": []
    },
    {
      "cell_type": "code",
      "source": [
        "top_emails = ranked_emails[:1]\n",
        "responses = {}\n",
        "\n",
        "for email in top_emails:\n",
        "    response = generate_response(email['subject'], email['body'])\n",
        "    responses[email['id']] = response\n",
        "\n",
        "for email_id, response in responses.items():\n",
        "    print(f\"Response for Email ID {email_id}:\")\n",
        "    print(response)\n",
        "    print(\"\\n---\\n\")\n",
        "\n",
        "    modified_response = input(f\"Edit response for Email ID {email_id} (leave blank to keep as is): \")\n",
        "    if modified_response.strip():\n",
        "        responses[email_id] = modified_response\n",
        "\n",
        "print(\"Final Responses:\")\n",
        "for email_id, response in responses.items():\n",
        "    print(f\"Email ID {email_id}:\")\n",
        "    print(response)\n",
        "    print(\"\\n---\\n\")\n"
      ],
      "metadata": {
        "colab": {
          "base_uri": "https://localhost:8080/"
        },
        "id": "dYnqcxpe1pQT",
        "outputId": "4cf0f29d-a5bc-440f-9c69-f44b15792161"
      },
      "execution_count": 91,
      "outputs": [
        {
          "output_type": "stream",
          "name": "stderr",
          "text": [
            "The attention mask and the pad token id were not set. As a consequence, you may observe unexpected behavior. Please pass your input's `attention_mask` to obtain reliable results.\n",
            "Setting `pad_token_id` to `eos_token_id`:50256 for open-end generation.\n"
          ]
        },
        {
          "output_type": "stream",
          "name": "stdout",
          "text": [
            "Response for Email ID 3:\n",
            "...\n",
            " (1) I am sorry for the inconvenience. Please note that I have not received any payment for this item\n",
            "\n",
            "---\n",
            "\n",
            "Edit response for Email ID 3 (leave blank to keep as is): \n",
            "Final Responses:\n",
            "Email ID 3:\n",
            "...\n",
            " (1) I am sorry for the inconvenience. Please note that I have not received any payment for this item\n",
            "\n",
            "---\n",
            "\n"
          ]
        }
      ]
    }
  ],
  "metadata": {
    "colab": {
      "provenance": [],
      "authorship_tag": "ABX9TyPJcWYU+oirRhEBnDLDxPoa",
      "include_colab_link": true
    },
    "kernelspec": {
      "display_name": "Python 3",
      "name": "python3"
    },
    "language_info": {
      "name": "python"
    }
  },
  "nbformat": 4,
  "nbformat_minor": 0
}
